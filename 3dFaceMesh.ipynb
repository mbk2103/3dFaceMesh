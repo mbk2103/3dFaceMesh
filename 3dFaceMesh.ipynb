{
  "cells": [
    {
      "cell_type": "markdown",
      "metadata": {
        "id": "lEn_1f-3DVUE"
      },
      "source": [
        "# 3D Face Mesh"
      ]
    },
    {
      "cell_type": "code",
      "execution_count": null,
      "metadata": {
        "colab": {
          "base_uri": "https://localhost:8080/"
        },
        "id": "CslMOuyoykGd",
        "outputId": "2f8f309c-9ea5-40fe-f552-ee5d13117f34"
      },
      "outputs": [
        {
          "output_type": "stream",
          "name": "stdout",
          "text": [
            "Requirement already satisfied: mediapipe in /usr/local/lib/python3.10/dist-packages (0.10.9)\n",
            "Requirement already satisfied: opencv-python in /usr/local/lib/python3.10/dist-packages (4.8.0.76)\n",
            "Requirement already satisfied: absl-py in /usr/local/lib/python3.10/dist-packages (from mediapipe) (1.4.0)\n",
            "Requirement already satisfied: attrs>=19.1.0 in /usr/local/lib/python3.10/dist-packages (from mediapipe) (23.1.0)\n",
            "Requirement already satisfied: flatbuffers>=2.0 in /usr/local/lib/python3.10/dist-packages (from mediapipe) (23.5.26)\n",
            "Requirement already satisfied: matplotlib in /usr/local/lib/python3.10/dist-packages (from mediapipe) (3.7.1)\n",
            "Requirement already satisfied: numpy in /usr/local/lib/python3.10/dist-packages (from mediapipe) (1.23.5)\n",
            "Requirement already satisfied: opencv-contrib-python in /usr/local/lib/python3.10/dist-packages (from mediapipe) (4.8.0.76)\n",
            "Requirement already satisfied: protobuf<4,>=3.11 in /usr/local/lib/python3.10/dist-packages (from mediapipe) (3.20.3)\n",
            "Requirement already satisfied: sounddevice>=0.4.4 in /usr/local/lib/python3.10/dist-packages (from mediapipe) (0.4.6)\n",
            "Requirement already satisfied: CFFI>=1.0 in /usr/local/lib/python3.10/dist-packages (from sounddevice>=0.4.4->mediapipe) (1.16.0)\n",
            "Requirement already satisfied: contourpy>=1.0.1 in /usr/local/lib/python3.10/dist-packages (from matplotlib->mediapipe) (1.2.0)\n",
            "Requirement already satisfied: cycler>=0.10 in /usr/local/lib/python3.10/dist-packages (from matplotlib->mediapipe) (0.12.1)\n",
            "Requirement already satisfied: fonttools>=4.22.0 in /usr/local/lib/python3.10/dist-packages (from matplotlib->mediapipe) (4.46.0)\n",
            "Requirement already satisfied: kiwisolver>=1.0.1 in /usr/local/lib/python3.10/dist-packages (from matplotlib->mediapipe) (1.4.5)\n",
            "Requirement already satisfied: packaging>=20.0 in /usr/local/lib/python3.10/dist-packages (from matplotlib->mediapipe) (23.2)\n",
            "Requirement already satisfied: pillow>=6.2.0 in /usr/local/lib/python3.10/dist-packages (from matplotlib->mediapipe) (9.4.0)\n",
            "Requirement already satisfied: pyparsing>=2.3.1 in /usr/local/lib/python3.10/dist-packages (from matplotlib->mediapipe) (3.1.1)\n",
            "Requirement already satisfied: python-dateutil>=2.7 in /usr/local/lib/python3.10/dist-packages (from matplotlib->mediapipe) (2.8.2)\n",
            "Requirement already satisfied: pycparser in /usr/local/lib/python3.10/dist-packages (from CFFI>=1.0->sounddevice>=0.4.4->mediapipe) (2.21)\n",
            "Requirement already satisfied: six>=1.5 in /usr/local/lib/python3.10/dist-packages (from python-dateutil>=2.7->matplotlib->mediapipe) (1.16.0)\n"
          ]
        }
      ],
      "source": [
        "!pip install mediapipe opencv-python"
      ]
    },
    {
      "cell_type": "code",
      "source": [
        "from google.colab import drive\n",
        "drive.mount('/content/drive')"
      ],
      "metadata": {
        "colab": {
          "base_uri": "https://localhost:8080/"
        },
        "id": "O5q0DRfj1LRj",
        "outputId": "01e97615-180f-4c78-ffb6-b32e8e0ff7ea"
      },
      "execution_count": null,
      "outputs": [
        {
          "output_type": "stream",
          "name": "stdout",
          "text": [
            "Drive already mounted at /content/drive; to attempt to forcibly remount, call drive.mount(\"/content/drive\", force_remount=True).\n"
          ]
        }
      ]
    },
    {
      "cell_type": "code",
      "source": [
        "# Import necessary libraries\n",
        "import cv2\n",
        "import mediapipe as mp\n",
        "from google.colab.patches import cv2_imshow\n",
        "from google.colab import drive\n",
        "import time\n",
        "\n",
        "# Define a class for processing FaceMesh\n",
        "class FaceMeshProcessor:\n",
        "    def __init__(self, input_source, output_file=None):\n",
        "        # Initialize class variables\n",
        "        self.input_source = input_source\n",
        "        self.output_file = output_file\n",
        "        self.video_capture = cv2.VideoCapture(input_source)\n",
        "        self.frame_rate = 30\n",
        "\n",
        "        # Set up FaceMesh and drawing utilities from Mediapipe\n",
        "        self.mp_face_mesh = mp.solutions.face_mesh\n",
        "        self.mp_drawing = mp.solutions.drawing_utils\n",
        "\n",
        "        # Initialize FaceMesh with specified parameters\n",
        "        with self.mp_face_mesh.FaceMesh(\n",
        "            max_num_faces=5,\n",
        "            refine_landmarks=True,\n",
        "            min_detection_confidence=0.7,\n",
        "            min_tracking_confidence=0.7,\n",
        "        ) as self.face_mesh:\n",
        "            self.mp_drawing_styles = mp.solutions.drawing_styles\n",
        "            # Check if the input is an image and call the appropriate processing method\n",
        "            if self.is_image():\n",
        "                self.process_image()\n",
        "            else:\n",
        "                self.process_video()\n",
        "\n",
        "    # Check if the input source is an image\n",
        "    def is_image(self):\n",
        "        return self.input_source.lower().endswith(('.png', '.jpg', '.jpeg'))\n",
        "\n",
        "    # Draw FaceMesh on the frame\n",
        "    def draw_face_mesh(self, frame, face_landmarks):\n",
        "        # Draw different components of the face mesh\n",
        "        self.mp_drawing.draw_landmarks(\n",
        "            image=frame,\n",
        "            landmark_list=face_landmarks,\n",
        "            connections=self.mp_face_mesh.FACEMESH_TESSELATION,\n",
        "            landmark_drawing_spec=None,\n",
        "            connection_drawing_spec=self.mp_drawing_styles.get_default_face_mesh_tesselation_style()\n",
        "        )\n",
        "        self.mp_drawing.draw_landmarks(\n",
        "            image=frame,\n",
        "            landmark_list=face_landmarks,\n",
        "            connections=self.mp_face_mesh.FACEMESH_CONTOURS,\n",
        "            landmark_drawing_spec=None,\n",
        "            connection_drawing_spec=self.mp_drawing_styles.get_default_face_mesh_contours_style()\n",
        "        )\n",
        "        self.mp_drawing.draw_landmarks(\n",
        "            image=frame,\n",
        "            landmark_list=face_landmarks,\n",
        "            connections=self.mp_face_mesh.FACEMESH_IRISES,\n",
        "            landmark_drawing_spec=None,\n",
        "            connection_drawing_spec=self.mp_drawing_styles.get_default_face_mesh_iris_connections_style()\n",
        "        )\n",
        "\n",
        "    # Process video input\n",
        "    def process_video(self):\n",
        "        # Get video dimensions\n",
        "        width = int(self.video_capture.get(cv2.CAP_PROP_FRAME_WIDTH))\n",
        "        height = int(self.video_capture.get(cv2.CAP_PROP_FRAME_HEIGHT))\n",
        "\n",
        "        # Initialize video writer if output file is provided\n",
        "        if self.output_file:\n",
        "            fourcc = cv2.VideoWriter_fourcc(*'XVID')\n",
        "            out = cv2.VideoWriter(self.output_file, fourcc, self.frame_rate, (width, height))\n",
        "\n",
        "        # Initialize variables for FPS calculation\n",
        "        frame_count = 0\n",
        "        start_time = time.time()\n",
        "\n",
        "        # Process each frame of the video\n",
        "        while self.video_capture.isOpened():\n",
        "            isSuccess, frame = self.video_capture.read()\n",
        "            if not isSuccess:\n",
        "                break\n",
        "\n",
        "            # Convert frame to RGB for processing\n",
        "            frame.flags.writeable = False\n",
        "            frame = cv2.cvtColor(frame, cv2.COLOR_BGR2RGB)\n",
        "            results = self.face_mesh.process(frame)\n",
        "\n",
        "            # Convert frame back to BGR for display\n",
        "            frame.flags.writeable = True\n",
        "            frame = cv2.cvtColor(frame, cv2.COLOR_RGB2BGR)\n",
        "\n",
        "            # Draw FaceMesh on the frame if landmarks are detected\n",
        "            if results.multi_face_landmarks:\n",
        "                for face_landmarks in results.multi_face_landmarks:\n",
        "                    self.draw_face_mesh(frame, face_landmarks)\n",
        "\n",
        "            # Calculate and display FPS\n",
        "            frame_count += 1\n",
        "            elapsed_time = time.time() - start_time\n",
        "            fps = frame_count / elapsed_time\n",
        "            cv2.putText(frame, f'FPS: {fps:.2f}', (10, 30), cv2.FONT_HERSHEY_SIMPLEX, 1, (0, 255, 0), 2, cv2.LINE_AA)\n",
        "\n",
        "            # Display the frame\n",
        "            cv2_imshow(cv2.flip(frame, 1))\n",
        "\n",
        "            # Write frame to output video if specified\n",
        "            if self.output_file:\n",
        "                out.write(frame)\n",
        "\n",
        "            # Break the loop if 'Esc' key is pressed\n",
        "            if cv2.waitKey(int(1000 / self.frame_rate)) & 0xFF == 27:\n",
        "                break\n",
        "\n",
        "        # Release resources\n",
        "        self.video_capture.release()\n",
        "        if self.output_file:\n",
        "            out.release()\n",
        "        cv2.destroyAllWindows()\n",
        "\n",
        "    # Process image input\n",
        "    def process_image(self):\n",
        "        # Read image and convert to RGB\n",
        "        frame = cv2.imread(self.input_source)\n",
        "        frame = cv2.cvtColor(frame, cv2.COLOR_BGR2RGB)\n",
        "        results = self.face_mesh.process(frame)\n",
        "\n",
        "        # Draw FaceMesh on the image if landmarks are detected\n",
        "        if results.multi_face_landmarks:\n",
        "            for face_landmarks in results.multi_face_landmarks:\n",
        "                self.draw_face_mesh(frame, face_landmarks)\n",
        "\n",
        "        # Display the image\n",
        "        cv2_imshow(cv2.cvtColor(frame, cv2.COLOR_RGB2BGR))\n",
        "\n",
        "        # Save the image as a JPEG file if output file is specified\n",
        "        if self.output_file:\n",
        "            output_path = self.output_file.replace('.avi', '.jpg')\n",
        "            cv2.imwrite(output_path, cv2.cvtColor(frame, cv2.COLOR_RGB2BGR))\n",
        "        cv2.destroyAllWindows()\n",
        "\n",
        "# Mount Google Drive\n",
        "drive.mount('/content/drive')\n",
        "\n",
        "# Define input and output paths\n",
        "if __name__ == \"__main__\":\n",
        "    input_source = '/content/drive/MyDrive/3D-FaceMesh/faces/worker.mp4'\n",
        "    output_file = '/content/drive/MyDrive/3D-FaceMesh/Output/output_video3.avi'\n",
        "\n",
        "    # Create FaceMeshProcessor instance and process input\n",
        "    face_mesh_processor = FaceMeshProcessor(input_source, output_file)"
      ],
      "metadata": {
        "colab": {
          "base_uri": "https://localhost:8080/",
          "height": 1000
        },
        "id": "bvc1O-CgB6qI",
        "outputId": "9800f73e-8f11-412e-de05-c2317450e31c"
      },
      "execution_count": null,
      "outputs": []
    }
  ],
  "metadata": {
    "colab": {
      "provenance": []
    },
    "kernelspec": {
      "display_name": "Python 3",
      "name": "python3"
    },
    "language_info": {
      "name": "python"
    }
  },
  "nbformat": 4,
  "nbformat_minor": 0
}